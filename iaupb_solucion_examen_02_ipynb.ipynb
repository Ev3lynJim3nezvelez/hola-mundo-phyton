{
  "nbformat": 4,
  "nbformat_minor": 0,
  "metadata": {
    "colab": {
      "provenance": [],
      "authorship_tag": "ABX9TyPfJs1wuYpO/AmbOxPgNTVu",
      "include_colab_link": true
    },
    "kernelspec": {
      "name": "python3",
      "display_name": "Python 3"
    },
    "language_info": {
      "name": "python"
    }
  },
  "cells": [
    {
      "cell_type": "markdown",
      "metadata": {
        "id": "view-in-github",
        "colab_type": "text"
      },
      "source": [
        "<a href=\"https://colab.research.google.com/github/Ev3lynJim3nezvelez/hola-mundo-phyton/blob/main/iaupb_solucion_examen_02_ipynb.ipynb\" target=\"_parent\"><img src=\"https://colab.research.google.com/assets/colab-badge.svg\" alt=\"Open In Colab\"/></a>"
      ]
    },
    {
      "cell_type": "code",
      "execution_count": null,
      "metadata": {
        "id": "X29yQx82s2X5"
      },
      "outputs": [],
      "source": []
    },
    {
      "cell_type": "markdown",
      "source": [
        "**Etapa 1: lectura y procesamiento inicial**"
      ],
      "metadata": {
        "id": "Fxa680A3utH8"
      }
    },
    {
      "cell_type": "code",
      "source": [
        "import pandas as pd\n",
        "print(\"carga y primera inspeccion\")\n",
        "#cargar los datos\n",
        "\n",
        "df = pd.read_csv('registro_llegadas_a_medellin_dic2024.csv', sep= ';', encoding= 'utf-8')\n",
        "print(f\"dataset cargado exitosamente\")\n",
        "print(f\"Dimensiones del dataset: {df.shape[0]} filas {df.shape[1]} columnas\")\n",
        "\n",
        "#Informacion basica del datset\n",
        "\n",
        "print(\"\\nPrimeras 5 filas:\")\n",
        "print(df.head())\n",
        "\n",
        "print(\"\\nultimas 5 filas:\")\n",
        "print(df.tail())\n",
        "\n",
        "print(\"\\nTipos de datos:\")\n",
        "print(df.dtypes)\n",
        "\n",
        "print(\"\\nNombres de columnas:\")\n",
        "print(df.colums.tolist())\n",
        "\n",
        "\n"
      ],
      "metadata": {
        "id": "CjEL25A5u5Kn"
      },
      "execution_count": null,
      "outputs": []
    },
    {
      "cell_type": "code",
      "source": [
        "#duplicados\n",
        "print(\"\\nRegistros duplicados:\")\n",
        "\n",
        "total_duplicados = df.duplicated().sum()\n",
        "\n",
        "if total_duplicados ==0:\n",
        "    print(\"No se encontraron registros duplicados\")\n",
        "else:\n",
        "    print(f\"\\nTotal registros duplicados encontrados : {total_duplicados} ({(total_duplicados/len(df)*100):.2f}%) \\n\")\n",
        "\n",
        "    duplicados = df.groupby(['FechaObservacion', 'ValorObservado']).size().reset_index(name='veces_duplicado')\n",
        "    # Filtra solo los registros que están duplicados (aparecen más de una vez)\n",
        "    duplicados = duplicados[duplicados['veces_duplicado'] > 1]\n",
        "    print(duplicados)\n",
        "\n",
        "#conversion fecha\n",
        "print(f\"\\nConversión de fechas:\")\n",
        "try:\n",
        "    df_procesado['FechaObservacion'] = pd.to_datetime(df_procesado['FechaObservacion'])\n",
        "    print(\" Conversión de fechas exitosa\")\n",
        "\n",
        "except Exception as e:\n",
        "    print(f\"Error en conversión de fechas: Posible inconsistencia de formato\\n\")\n",
        "\n",
        "try:\n",
        "    print('Intentando conversión de fechas con formato mezclado... un momento por favor!')\n",
        "\n",
        "    df_procesado['FechaObservacion'] = pd.to_datetime(df_procesado['FechaObservacion'], format='mixed')\n",
        "    print(\"Conversión de fechas exitosa\")\n",
        "\n",
        "\n",
        "    fecha_min = df_procesado['FechaObservacion'].min()\n",
        "    fecha_max = df_procesado['FechaObservacion'].max()\n",
        "    duracion = fecha_max - fecha_min\n",
        "\n",
        "    print(f\" Rango temporal: {fecha_min} a {fecha_max}\")\n",
        "    print(f\" Duración total: {duracion.days} días, {duracion.seconds//3600} horas\")\n",
        "\n",
        "except Exception as e:\n",
        "    print(f\"Error en conversión de fechas: {e}\")\n",
        "\n"
      ],
      "metadata": {
        "id": "XxtY7_kvylJ-"
      },
      "execution_count": null,
      "outputs": []
    },
    {
      "cell_type": "markdown",
      "source": [
        "**Etapa 2: identificar outliers sin eliminarlos**"
      ],
      "metadata": {
        "id": "RLNgwR0t06Wu"
      }
    },
    {
      "cell_type": "code",
      "source": [
        "#deteccion de outliers\n",
        "\n",
        "Q1 = df['ValorObservado'].quantile(0.25)\n",
        "Q3 = df['ValorObservado'].quantile(0.75)\n",
        "IQR = Q3 - Q1\n",
        "limite_inferior = Q1 - 1.5 * IQR\n",
        "limite_superior = Q3 + 1.5 * IQR\n",
        "\n",
        "outliers = df[(df['ValorObservado'] < limite_inferior) | (df['ValorObservado'] > limite_superior)]\n",
        "\n",
        "print(f\"\\nDetección de outliers:\")\n",
        "print(f\"  - Límite inferior: {limite_inferior:.2f}\")\n",
        "print(f\"  - Límite superior: {limite_superior:.2f}\")\n",
        "print(f\"  - Outliers detectados: {len(outliers)} ({len(outliers)/len(df)*100:.2f}%)\")"
      ],
      "metadata": {
        "id": "eQp3fccc0haX"
      },
      "execution_count": null,
      "outputs": []
    },
    {
      "cell_type": "markdown",
      "source": [
        "**Etapa 3: Identificar comportamiento por hora y dia de la semana**"
      ],
      "metadata": {
        "id": "ixLNtUxg1zlv"
      }
    },
    {
      "cell_type": "code",
      "source": [
        "# Crear características temporales\n",
        "df_temporal = df_procesado.copy()\n",
        "df_temporal['hora'] = df_temporal['FechaObservacion'].dt.hour\n",
        "df_temporal['dia_semana'] = df_temporal['FechaObservacion'].dt.dayofweek  # 0=Lunes, 6=Domingo\n",
        "df_temporal['dia_semana_nombre'] = df_temporal['FechaObservacion'].dt.day_name()\n",
        "df_temporal['semana_año'] = df_temporal['FechaObservacion'].dt.isocalendar().week\n",
        "df_temporal['mes'] = df_temporal['FechaObservacion'].dt.month\n",
        "df_temporal['mes_nombre'] = df_temporal['FechaObservacion'].dt.month_name()\n",
        "df_temporal['fecha'] = df_temporal['FechaObservacion'].dt.date\n",
        "\n",
        "# Crear orden correcto de días de la semana (en español)\n",
        "dias_semana_orden = ['Monday', 'Tuesday', 'Wednesday', 'Thursday', 'Friday', 'Saturday', 'Sunday']\n",
        "dias_semana_es = ['Lunes', 'Martes', 'Miércoles', 'Jueves', 'Viernes', 'Sábado', 'Domingo']\n",
        "\n",
        "# Crear mapeo de los días de inglés a español para mejor visualización\n",
        "mapeo_dias = dict(zip(dias_semana_orden, dias_semana_es))\n",
        "df_temporal['dia_semana_nombre_es'] = df_temporal['dia_semana_nombre'].map(mapeo_dias)\n",
        "\n",
        "# Crear orden correcto de los meses del año (en español)\n",
        "meses_orden = ['January', 'February', 'March', 'April', 'May', 'June', 'July','August', 'September', 'October', 'November','December']\n",
        "meses_es = ['Enero', 'Febrero', 'Marzo', 'Abril', 'Mayo', 'Junio', 'Julio','Agosto', 'Septiembre', 'Octubre', 'Noviembre','Diciembre']\n",
        "\n",
        "# Crear mapeo de los meses de inglés a español para mejor visualización\n",
        "mapeo_meses = dict(zip(meses_orden, meses_es))\n",
        "df_temporal['mes_nombre_es'] = df_temporal['mes_nombre'].map(mapeo_meses)\n",
        "\n",
        "# Crear variables categóricas ordenadas - Solo español\n",
        "df_temporal['DiaSemanaOrdenadoEs'] = pd.Categorical(df_temporal['dia_semana_nombre_es'], categories=dias_semana_es, ordered=True)\n",
        "df_temporal['MesOrdenadoEs'] = pd.Categorical(df_temporal['mes_nombre_es'], categories=meses_es, ordered=True)\n",
        "\n",
        "print(\"Características temporales extraídas: hora, día_semana, semana_año, mes\")\n",
        "\n",
        "# Análisis por hora del día\n",
        "print(f\"\\n--- Análisis por Hora del Día ---\")\n",
        "comp_por_hora = df_temporal.groupby('hora')['ValorObservado'].agg([\n",
        "    'count', 'mean', 'std', 'min', 'max'\n",
        "]).round(2)\n",
        "comp_por_hora.columns = ['Mediciones', 'Promedio', 'Desv_Std', 'Mínimo', 'Máximo']\n",
        "\n",
        "print(\"Estadísticas de comportamiento por hora:\")\n",
        "print(comp_por_hora)\n",
        "\n",
        "# Horas con mayor y menor temperatura promedio\n",
        "hora_max_comp = comp_por_hora['Promedio'].idxmax()\n",
        "hora_min_comp = comp_por_hora['Promedio'].idxmin()\n",
        "print(f\"\\nHora con mayor comportamiento promedio: {hora_max_comp}:00 ({comp_por_hora.loc[hora_max_comp, 'Promedio']:.2f})\")\n",
        "print(f\"Hora con menor comportamiento promedio: {hora_min_comp}:00 ({comp_por_hora.loc[hora_min_comp, 'Promedio']:.2f})\")\n",
        "print(f\"Variación diaria: {comp_por_hora['Promedio'].max() - comp_por_hora['Promedio'].min():.2f}°C\")\n",
        "\n",
        "# Análisis por dia de la semana\n",
        "print(f\"\\n--- Análisis por Día de la Semana ---\")\n",
        "comp_por_dia = df_temporal.groupby(['dia_semana', 'dia_semana_nombre_es'])['ValorObservado'].agg([\n",
        "    'count', 'mean', 'std', 'min', 'max'\n",
        "]).round(2)\n",
        "comp_por_dia.columns = ['Mediciones', 'Promedio', 'Desv_Std', 'Mínimo', 'Máximo']\n",
        "\n",
        "print(\"Estadísticas de temperatura por día de la semana:\")\n",
        "print(comp_por_dia)\n",
        "\n",
        "# Día con mayor y menor temperatura promedio\n",
        "dia_max_temp = comp_por_dia['Promedio'].idxmax()\n",
        "dia_min_temp = comp_por_dia['Promedio'].idxmin()\n",
        "print(f\"\\nDía con mayor temperatura promedio: {dia_max_temp[1]} ({comp_por_dia.loc[dia_max_temp, 'Promedio']:.2f})\")\n",
        "print(f\"Día con menor temperatura promedio: {dia_min_temp[1]} ({comp_por_dia.loc[dia_min_temp, 'Promedio']:.2f})\")\n"
      ],
      "metadata": {
        "id": "pHDy2zZI1-Z4"
      },
      "execution_count": null,
      "outputs": []
    },
    {
      "cell_type": "markdown",
      "source": [],
      "metadata": {
        "id": "4YHuhByczhtZ"
      }
    },
    {
      "cell_type": "markdown",
      "source": [
        "**Etapa 4: visualizaciones**"
      ],
      "metadata": {
        "id": "rgj0Isyy6e2H"
      }
    },
    {
      "cell_type": "code",
      "source": [
        "import matplotlib.pyplot as plt\n",
        "\n",
        "fig, axes = plt.subplots(2,2, figsize =(20,15))\n",
        "\n",
        "comp_hora = comp_por_hora['promedio']\n",
        "axes[0,0].plot(comp_hora.index, comp_hora.values, marker='o', linewidth=2, markersize=6)\n",
        "axes[0,0].set_title('Comportamiento promedio por Hora del Día', fontsize=12, fontweight='bold')\n",
        "axes[0,0].set_xlabel('Hora del día')\n",
        "axes[0,0].set_ylabel('comportamiento')\n",
        "axes[0,0].set_xticks(range(0, 24, 4))\n",
        "axes[0,0].grid(True, alpha=0.3)\n"
      ],
      "metadata": {
        "id": "_tLRV9Ht6nLp"
      },
      "execution_count": null,
      "outputs": []
    }
  ]
}